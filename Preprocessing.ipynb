{
 "cells": [
  {
   "cell_type": "code",
   "execution_count": null,
   "metadata": {},
   "outputs": [],
   "source": [
    "import os, cv2, glob, random, math\n",
    "import matplotlib.pyplot as plt\n",
    "import numpy as np\n",
    "import tensorflow as tf\n",
    "from enum import Enum\n",
    "from tqdm import *\n",
    "from PIL import Image\n",
    "from keras.preprocessing.image import ImageDataGenerator"
   ]
  },
  {
   "cell_type": "code",
   "execution_count": null,
   "metadata": {},
   "outputs": [],
   "source": [
    "mask1 = cv2.imread('data/primer/primeruji/label/lbgr_5.png',3)\n",
    "mask2 = cv2.imread('data/sawit/Data Oil Palm/train_label/0027.png',3)\n",
    "print(np.unique(mask1))\n",
    "print(np.unique(mask2))"
   ]
  },
  {
   "cell_type": "code",
   "execution_count": null,
   "metadata": {},
   "outputs": [],
   "source": [
    "clahe = cv2.createCLAHE(clipLimit = 0.82, tileGridSize=(4,4)) #parameter ditetapkan untuk CLAHE\n",
    "path = 'data/primer/Preprocessing2'  # folder menyimpan hasil proses CLAHE+MB\n",
    "for i, img in enumerate(glob.glob(\"data/primer/Foto Asli - 1/*.jpg\"), 1):  #proses inisiasi iterasi data yang diambil\n",
    "    img_palm = cv2.imread(img)   # membaca data \n",
    "    img_palm = cv2.cvtColor(img_palm, cv2.COLOR_BGR2YUV)  #konversi ruang warna BGR ke YUV\n",
    "    img_palm[:,:,2] = cv2.medianBlur(clahe.apply(img_palm[:,:,2]),3) # penggabungan operasi CLAHE+MB\n",
    "    img_palm = cv2.cvtColor(img_palm,cv2.COLOR_YUV2BGR)  #pengembalian opeasi konversi warna dari YUV ke BGR\n",
    "    cv2.imwrite(os.path.join(path, 'DJI_{}.jpg'.format(i)), img_palm)  #memberi nama file\n"
   ]
  },
  {
   "cell_type": "code",
   "execution_count": null,
   "metadata": {},
   "outputs": [],
   "source": [
    "clahe2 = cv2.createCLAHE(clipLimit = 0.82, tileGridSize=(4,4))\n",
    "path2 = 'data/primer/Preprocessing1'\n",
    "for i, img2 in enumerate(glob.glob(\"data/primer/Foto Asli - 2/*.jpg\"), 1):\n",
    "    img_palm2 = cv2.imread(img2)\n",
    "    #img_palm2 = cv2.cvtColor(img_palm2, cv2.COLOR_BGR2RGB)\n",
    "    img_palm2 = cv2.cvtColor(img_palm2, cv2.COLOR_BGR2YUV)\n",
    "    img_palm2[:,:,2] = cv2.medianBlur(clahe2.apply(img_palm2[:,:,2]),3)\n",
    "    img_palm2 = cv2.cvtColor(img_palm2,cv2.COLOR_YUV2BGR)\n",
    "    cv2.imwrite(os.path.join(path2, 'DJI_{}.jpg'.format(451+i)), img_palm2)"
   ]
  },
  {
   "cell_type": "code",
   "execution_count": null,
   "metadata": {},
   "outputs": [],
   "source": [
    "#Proses Pelabelan Citra\n",
    "#0:[0,0,0], 28:[248,0,0],74:[0,0,248], 146:[0,248,0]\n",
    "#                B                R            G\n",
    "#0:[0,0,0] 1:[248,0,0],2:[0,0,248], 3:[0,248,0], \n",
    "def plot_image (im, judul = \"Image\"):\n",
    "    \"\"\" Plot citra dengan plt.imshow\"\"\"\n",
    "    plt.figure()\n",
    "    if len(im.shape)==3:\n",
    "        im_rgb= cv2.cvtColor(im, cv2.COLOR_BGR2RGB)\n",
    "        plt.axis('off')\n",
    "        plt.title(f\"{judul}\") \n",
    "        plt.imshow(im_rgb)\n",
    "    else:\n",
    "        plt.axis('off')\n",
    "        plt.title(f\"{judul}\") \n",
    "        plt.imshow(im, cmap = \"gray\")\n",
    "\n",
    "def unik_color(im):\n",
    "    \"\"\" Mencari warna yang unik pada array 2D\"\"\"\n",
    "    # Flaten image dari 3 dimensi jadi 1 dimensi\n",
    "    im_val = im.flatten()\n",
    "    # Dapatkan jumlah baris lalu reshape\n",
    "    n_row = int(len(im_val)/3)\n",
    "    new_im = im_val.reshape((n_row,3))\n",
    "    \n",
    "    # Hitung nilai unique yang muncul\n",
    "    # Untuk mengecek apakah benar jumlah warnanya hanya ada 4\n",
    "    # warna_unik = warna2 yang ada di citranya\n",
    "    warna_unik = np.unique(new_im, axis=0) \n",
    "    list_warna = list(warna_unik)\n",
    "    return list_warna\n",
    "\n",
    "def convert_w2b(im):\n",
    "    \"\"\"Konversi warna putih ke warna hitam\"\"\"\n",
    "    m,n,_=im.shape\n",
    "    for i in range (0,m):\n",
    "        for j in range(0,n):\n",
    "            if np.all(im[i,j,:]==248):\n",
    "                im[i,j,:]=np.array([0,0,0])\n",
    "    for i in range (0,m):\n",
    "        for j in range(0,n):\n",
    "            if (im[i,j,2]>=240) and (im[i,j,1]==0) and (im[i,j,0]==0):\n",
    "                im[i,j,:]=np.array([0,0,0])            \n",
    "    return im\n",
    "\n",
    "def BGR2label(im):\n",
    "    \"\"\"Konversi mask ke 1,2,3,4 (1:tanah/jalan 2: Sawit 3: parit/kubangan 4:tanaman lain)\"\"\"\n",
    "    gray= cv2.cvtColor(im, cv2.COLOR_BGR2GRAY)\n",
    "    mask = np.zeros_like(gray)\n",
    "    #warna_unik = list(np.unique(gray)) \n",
    "    #print(warna_unik)\n",
    "    warna_unik = [0, 20, 70, 140, 240]\n",
    "    label = [0,1,2,3]\n",
    "    for i in range(len(warna_unik)-1):\n",
    "        logika = np.logical_and(gray >= warna_unik[i], gray < warna_unik[i+1]-15)*1*label[i]\n",
    "        mask = mask+logika\n",
    "    return mask\n",
    "\n",
    "def BGR2label3(im):\n",
    "    \"\"\"Konversi mask ke 1,2,3(1:tanah/jalan 2: vegetasi 3: parit/kubangan) \"\"\"\n",
    "    gray= cv2.cvtColor(im, cv2.COLOR_BGR2GRAY)\n",
    "    mask = np.zeros_like(gray)\n",
    "    warna_unik = list(np.unique(gray)) \n",
    "    print(warna_unik)\n",
    "    warna_unik = [0, 25, 130, 240]\n",
    "    label = [0,1,2]\n",
    "    for i in range(len(warna_unik)-1):\n",
    "        logika = np.logical_and(gray >= warna_unik[i], gray < warna_unik[i+1]-15)*1*label[i]\n",
    "        mask = mask+logika\n",
    "    return mask\n",
    "\n",
    "# ================ LABELING ============\n",
    "\n",
    "def label2BGR(mask):\n",
    "    \"\"\"Konversi dari mask ke B,G,R\"\"\"\n",
    "    B = (mask==1)*1*248\n",
    "    R = (mask==1)*1*248\n",
    "    G = (mask==1)*1*248\n",
    "    color_im = cv2.merge([B,G,R])\n",
    "    return color_im.astype(np.uint8)\n",
    "\n",
    "def label2BGR3(mask):\n",
    "    color_map = np.array([[0, 0, 0], [248, 0, 0], [0, 255, 0]], dtype=np.uint8)\n",
    "    bgr_image = color_map[mask]\n",
    "    return bgr_image"
   ]
  },
  {
   "cell_type": "code",
   "execution_count": null,
   "metadata": {},
   "outputs": [],
   "source": [
    "#=======================================================\n",
    "# Citra awal\n",
    "img = cv2.imread(\"data/primer/primeruji/mask2/156m3.png\")\n",
    "img_baru = convert_w2b(img.copy())\n",
    "mask_label = BGR2label3(img_baru)\n",
    "wu = list(np.unique(mask_label)) \n",
    "print(wu)\n",
    "konversi_bgr = label2BGR3(mask_label)\n",
    "# cv2.imwrite(\"data/primer/primeruji/label/l_84.png\", mask_label)\n",
    "# cv2.imwrite(\"data/primer/primeruji/label2/lbgr_84.png\",konversi_bgr)\n",
    "\n",
    "#Rotasi\n",
    "plot_image(img, \"Citra awal\")\n",
    "plot_image(img_baru, \"Citra rgb dg 3 label\")\n",
    "plot_image(mask_label, \"Konversi BGR ke 3 label\")\n",
    "plot_image(konversi_bgr, \"Konversi label ke BGR\")"
   ]
  },
  {
   "cell_type": "code",
   "execution_count": null,
   "metadata": {},
   "outputs": [],
   "source": [
    "# Pemrosesan mask 4 kelas label color\n",
    "lb = 'data/primer/primeruji/label2/'\n",
    "for i, img in enumerate(glob.glob(\"data/primer/primeruji/mask2/*.png\"), 1):\n",
    "    image = cv2.imread(img)\n",
    "    img_baru = convert_w2b(image.copy())\n",
    "    mask_label = BGR2label(img_baru)\n",
    "    konversi_bgr = label2BGR(mask_label)\n",
    "    cv2.imwrite(os.path.join(lb, 'lbgr_{}.png'.format(i)), konversi_bgr)"
   ]
  },
  {
   "cell_type": "code",
   "execution_count": null,
   "metadata": {},
   "outputs": [],
   "source": [
    "# Pemrosesan mask 4 kelas label gray\n",
    "lb = 'data/primer/primeruji/label/'\n",
    "for i, img in enumerate(glob.glob(\"data/primer/primeruji/mask2/*.png\"), 1):\n",
    "    image = cv2.imread(img)\n",
    "    img_baru = convert_w2b(image.copy())\n",
    "    mask_label = BGR2label(img_baru)\n",
    "    konversi_bgr = label2BGR(mask_label)\n",
    "    cv2.imwrite(os.path.join(lb, 'l_{}.png'.format(i)), mask_label)"
   ]
  },
  {
   "cell_type": "code",
   "execution_count": null,
   "metadata": {},
   "outputs": [],
   "source": [
    "# Pemrosesan mask 3 kelas label gray\n",
    "mask = 'data/primer/primeruji/mask3Color/'\n",
    "for i, img in enumerate(glob.glob(\"data/primer/primeruji/mask1/*.png\"), 1):\n",
    "    image = cv2.imread(img)\n",
    "    img_baru = convert_w2b(image.copy())\n",
    "    cv2.imwrite(os.path.join(mask, 'm3_{}.png'.format(i)), img_baru)"
   ]
  },
  {
   "cell_type": "code",
   "execution_count": null,
   "metadata": {},
   "outputs": [],
   "source": [
    "# Pemrosesan mask 3 kelas label gray dan mask\n",
    "lb1 = 'data/primer/primeruji/label3klas/'\n",
    "lb2 = 'data/primer/primeruji/labelColor3klas/'\n",
    "for i, img in enumerate(glob.glob(\"data/primer/primeruji/mask1/*.png\"), 1):\n",
    "    image = cv2.imread(img)\n",
    "    img_baru = convert_w2b(image.copy())\n",
    "    mask_label = BGR2label3(img_baru)\n",
    "    konversi_bgr =  label2BGR3(mask_label)\n",
    "    cv2.imwrite(os.path.join(lb1, 'l3_{}.png'.format(i)), mask_label)\n",
    "    cv2.imwrite(os.path.join(lb2, 'lbgr3_{}.png'.format(i)), konversi_bgr)       "
   ]
  },
  {
   "cell_type": "markdown",
   "metadata": {},
   "source": [
    "======= SPLIT IMAGE ================="
   ]
  },
  {
   "cell_type": "code",
   "execution_count": null,
   "metadata": {},
   "outputs": [],
   "source": [
    "#rename file \n",
    "folderSpli256 = 'data/primer/primeruji/trainSplit/'\n",
    "for count, filename in enumerate(os.listdir(folderSpli256)):\n",
    "    dst = f\"S_{count+1}.png\"\n",
    "    src =f\"{folderSpli256}/{filename}\"  # foldername/filename, if .py file is outside folder\n",
    "    dst =f\"{folderSpli256}/{dst}\"\n",
    "    # rename() function will\n",
    "    # rename all the files\n",
    "    os.rename(src, dst)\n"
   ]
  },
  {
   "cell_type": "code",
   "execution_count": null,
   "metadata": {},
   "outputs": [],
   "source": [
    "isplit = 'data/primer/primeruji/trainSplit512/'\n",
    "s = 2560\n",
    "k = 1\n",
    "for i, img in enumerate(glob.glob(\"data/primer/primeruji/train/*.jpg\"), 1):  \n",
    "    imgp = cv2.imread(img)\n",
    "    imgp = cv2.resize(imgp, (s,s))\n",
    "    h,w,c = imgp.shape\n",
    "    th, tw = 512, 512\n",
    "    list_crop = []\n",
    "    for i in range (0, s, th):\n",
    "        for j in range(0, s, tw):\n",
    "            im = imgp.copy()\n",
    "            t_array = im[i:i+th, j:j+tw,:c]\n",
    "            cv2.imwrite(os.path.join(isplit, f'S2_{0+k}.png'), t_array)\n",
    "            k=k+1\n",
    "'''\n",
    "img = cv2.imread('data/primer/primeruji/train/DJI_463.jpg')\n",
    "img = cv2.resize(img, (2560,2560))\n",
    "plot_image(img, \"Citra\")    \n",
    "print(img.shape)\n",
    "\n",
    "h,w,c = img.shape\n",
    "th, tw = 512, 512\n",
    "# t_array = np.zeros((int(h//th), int(w/tw), th, tw, c))\n",
    "list_crop = []\n",
    "k=1\n",
    "for i in range (0, 2560, th):\n",
    "    for j in range(0, 2560, th):\n",
    "        im = img.copy()\n",
    "        t_array = im[i:i+th, j:j+tw,:c]\n",
    "#         list_crop.append(t_array)\n",
    "        cv2.imwrite(os.path.join(isplit, f'S2_{150+k}.png'), t_array)\n",
    "        k=k+1\n",
    "# for crop in list_crop:\n",
    "#     plot_image(crop, \"Citra split\")  \n",
    "'''"
   ]
  },
  {
   "cell_type": "code",
   "execution_count": null,
   "metadata": {},
   "outputs": [],
   "source": [
    "isplitm = 'data/primer/primeruji/maskSplit256/'\n",
    "s = 2560\n",
    "k2 = 1\n",
    "for i, imgm in enumerate(glob.glob(\"data/primer/primeruji/mask1/*.png\"), 1):\n",
    "    imgp = cv2.imread(imgm)\n",
    "    imgp = cv2.resize(imgp, (s,s))\n",
    "    h,w,c = imgp.shape\n",
    "    th, tw = 256, 256\n",
    "    for i in range (0, s, th):\n",
    "        for j in range(0, s, tw):\n",
    "            im = imgp.copy()\n",
    "            t_array = im[i:i+th, j:j+tw,:c]\n",
    "            cv2.imwrite(os.path.join(isplitm, f'S2_{0+k2}.png'), t_array)\n",
    "            k2=k2+1\n",
    "'''\n",
    "imgm = cv2.imread('data/primer/primeruji/mask2/463m3.png')\n",
    "imgm = cv2.resize(imgm, (2560,2560))\n",
    "plot_image(imgm, \"Citra\")    \n",
    "print(imgm.shape)\n",
    "\n",
    "h,w,c = imgm.shape\n",
    "th, tw = 512, 512\n",
    "# t_array = np.zeros((int(h//th), int(w/tw), th, tw, c))\n",
    "k=1\n",
    "for i in range (0, 2560, th):\n",
    "    for j in range(0, 2560, th):\n",
    "        im = imgm.copy()\n",
    "        t_array = im[i:i+th, j:j+tw,:c]\n",
    "        cv2.imwrite(os.path.join(isplitm, f'S2_{150+k}.png'), t_array)\n",
    "        k=k+1\n",
    "'''"
   ]
  },
  {
   "cell_type": "code",
   "execution_count": null,
   "metadata": {},
   "outputs": [],
   "source": [
    "isplitl = 'data/primer/primeruji/labelSplit256/'\n",
    "s = 2560\n",
    "k1 = 1\n",
    "for i, img1 in enumerate(glob.glob(\"data/primer/primeruji/label30/*.png\"), 1):\n",
    "    imgp = cv2.imread(img1)\n",
    "    imgp = cv2.resize(imgp, (s,s))\n",
    "    h,w,c = imgp.shape\n",
    "    th, tw = 256, 256\n",
    "    for i in range (0, s, th):\n",
    "        for j in range(0, s, tw):\n",
    "            im = imgp.copy()\n",
    "            t_array = im[i:i+th, j:j+tw,:c]\n",
    "            cv2.imwrite(os.path.join(isplitl, f'S2_{0+k1}.png'), t_array)\n",
    "            k1=k1+1\n",
    "'''\n",
    "imgl = cv2.imread('data/primer/primeruji/label/l_15.png')\n",
    "imgl = cv2.resize(imgl, (2560,2560))\n",
    "    h,w,c = imgl.shape\n",
    "th, tw = 512, 512    # th, tw = 256, 256\n",
    "# t_array = np.zeros((int(h//th), int(w/tw), th, tw, c))\n",
    "k=1\n",
    "for i in range (0, 2560, th):\n",
    "    for j in range(0, 2560, th):\n",
    "        im = imgl.copy()\n",
    "        t_array = im[i:i+th, j:j+tw,:c]\n",
    "        cv2.imwrite(os.path.join(isplitl, f'S2_{150+k}.png'), t_array)\n",
    "        k=k+1\n",
    "'''"
   ]
  },
  {
   "cell_type": "markdown",
   "metadata": {},
   "source": [
    "# SPLIT GT 512 dan 256 #"
   ]
  },
  {
   "cell_type": "code",
   "execution_count": null,
   "metadata": {},
   "outputs": [],
   "source": [
    "sg1 = 'data/primer/primeruji/gtSplit256/'\n",
    "s = 2560\n",
    "k1 = 1\n",
    "for i, img1 in enumerate(glob.glob(\"data/primer/primeruji/gt/*.png\"), 1):\n",
    "    imgp = cv2.imread(img1)\n",
    "    imgp = cv2.resize(imgp, (s,s))\n",
    "    h,w,c = imgp.shape\n",
    "    th, tw = 256, 256\n",
    "    for i in range (0, s, th):\n",
    "        for j in range(0, s, tw):\n",
    "            im = imgp.copy()\n",
    "            t_array = im[i:i+th, j:j+tw,:c]\n",
    "            cv2.imwrite(os.path.join(sg1, f'SGT256_{0+k1}.png'), t_array)\n",
    "            k1=k1+1"
   ]
  },
  {
   "cell_type": "code",
   "execution_count": null,
   "metadata": {},
   "outputs": [],
   "source": [
    "sg = 'data/primer/primeruji/gtSplit512/'\n",
    "s = 2560\n",
    "k = 1\n",
    "for i, img in enumerate(glob.glob(\"data/primer/primeruji/gt/*.png\"), 1):  \n",
    "    imgp = cv2.imread(img)\n",
    "    imgp = cv2.resize(imgp, (s,s))\n",
    "    h,w,c = imgp.shape\n",
    "    th, tw = 512, 512\n",
    "    list_crop = []\n",
    "    for i in range (0, s, th):\n",
    "        for j in range(0, s, tw):\n",
    "            im = imgp.copy()\n",
    "            t_array = im[i:i+th, j:j+tw,:c]\n",
    "            cv2.imwrite(os.path.join(sg, f'SGT512_{0+k}.png'), t_array)\n",
    "            k=k+1"
   ]
  },
  {
   "cell_type": "markdown",
   "metadata": {},
   "source": [
    "======= AUGMENTATION IMAGE to Horizontal, Vertical, Horisontal + Vertica to the image mask ================="
   ]
  },
  {
   "cell_type": "code",
   "execution_count": null,
   "metadata": {},
   "outputs": [],
   "source": [
    "''' flip the maskimage horizontally '''\n",
    "lbr = 'data/primer/primeruji/labelRotasi/'\n",
    "for i, img in enumerate(glob.glob(\"data/primer/primeruji/mask2/*.png\"),1):\n",
    "    image = cv2.imread(img)\n",
    "    horizontal_flip = cv2.flip(image, flipCode=1)\n",
    "    cv2.imwrite(os.path.join(lbr, 'mh_{}.png'.format(30+i)), horizontal_flip)"
   ]
  },
  {
   "cell_type": "code",
   "execution_count": null,
   "metadata": {},
   "outputs": [],
   "source": [
    "# flip the mask image vertically\n",
    "for i, img in enumerate(glob.glob(\"data/primer/primeruji/mask2/*.png\"),1):\n",
    "    image = cv2.imread(img)\n",
    "    vertical_flip = cv2.flip(image, flipCode=0)\n",
    "    cv2.imwrite(os.path.join(lbr, 'mv_{}.png'.format(60+i)), vertical_flip)"
   ]
  },
  {
   "cell_type": "code",
   "execution_count": null,
   "metadata": {
    "jupyter": {
     "source_hidden": true
    }
   },
   "outputs": [],
   "source": [
    "# flip the mask image  both horizontally and vertically\n",
    "for i, img in enumerate(glob.glob(\"data/primer/primeruji/mask2/*.png\"),1):\n",
    "    image = cv2.imread(img)\n",
    "    flip_image = cv2.flip(image, flipCode=-0)\n",
    "    flip_image = cv2.flip(flip_image, flipCode=1)\n",
    "    cv2.imwrite(os.path.join(lbr, 'mvh_{}.png'.format(90+i)), flip_image)"
   ]
  },
  {
   "cell_type": "code",
   "execution_count": null,
   "metadata": {},
   "outputs": [],
   "source": [
    "======= AUGMENTATION IMAGE to Horizontal, Vertical, Horisontal + Vertical to train data ================="
   ]
  },
  {
   "cell_type": "code",
   "execution_count": null,
   "metadata": {},
   "outputs": [],
   "source": [
    "''' the image train '''\n",
    "train = 'data/primer/primeruji/trainRot/'\n",
    "for i, img in enumerate(glob.glob(\"data/primer/primeruji/train/*.jpg\"),1):\n",
    "    image = cv2.imread(img)\n",
    "    cv2.imwrite(os.path.join(train, 'DJI_{}.jpg'.format(i)), image)"
   ]
  },
  {
   "cell_type": "code",
   "execution_count": null,
   "metadata": {},
   "outputs": [],
   "source": [
    "''' flip the image train horizontally '''\n",
    "for i, img in enumerate(glob.glob(\"data/primer/primeruji/train/*.jpg\"),1):\n",
    "    image = cv2.imread(img)\n",
    "    horizontal_flip = cv2.flip(image, flipCode=1)\n",
    "    cv2.imwrite(os.path.join(train, 'DJI_{}.jpg'.format(30+i)), horizontal_flip)"
   ]
  },
  {
   "cell_type": "code",
   "execution_count": null,
   "metadata": {},
   "outputs": [],
   "source": [
    "# flip the train image vertically\n",
    "for i, img in enumerate(glob.glob(\"data/primer/primeruji/train/*.jpg\"),1):\n",
    "    image = cv2.imread(img)\n",
    "    vertical_flip = cv2.flip(image, flipCode=0)\n",
    "    cv2.imwrite(os.path.join(train, 'DJI_{}.jpg'.format(60+i)), vertical_flip)"
   ]
  },
  {
   "cell_type": "code",
   "execution_count": null,
   "metadata": {},
   "outputs": [],
   "source": [
    "# flip the train image both horizontally and vertically\n",
    "for i, img in enumerate(glob.glob(\"data/primer/primeruji/train/*.jpg\"),1):\n",
    "    image = cv2.imread(img)\n",
    "    flip_image = cv2.flip(image, flipCode=-0)\n",
    "    flip_image = cv2.flip(flip_image, flipCode=1)\n",
    "    cv2.imwrite(os.path.join(train, 'DJI_{}.jpg'.format(90+i)), flip_image)"
   ]
  },
  {
   "cell_type": "markdown",
   "metadata": {},
   "source": []
  },
  {
   "cell_type": "code",
   "execution_count": null,
   "metadata": {},
   "outputs": [],
   "source": [
    "# from PIL import Image\n",
    "# img = Image.open(\"data/primer/primeruji/mask2/171m3.png\")\n",
    "# flipped = img.transpose(Image.FLIP_TOP_BOTTOM)\n",
    "\n",
    "img = cv2.imread(\"data/primer/primeruji/mask2/171m3.png\")\n",
    "\n",
    "# flip the image horizontally\n",
    "horizontal_flip = cv2.flip(img, flipCode=1)\n",
    "cv2.imwrite(\"data/primer/primeruji/mask2/l_32.png\", mask_label)\n",
    "cv2.imshow(\"Horizontal flip\", horizontal_flip_img)\n",
    "print(f\"[INFO] flipping image horizontally...\")\n",
    "cv2.waitKey(0)\n",
    "\n",
    "# flip the image vertically\n",
    "vertical_flip = cv2.flip(image, flipCode=0)\n",
    "cv2.imwrite(\"data/primer/primeruji/mask2/l_62.png\",konversi_bgr)\n",
    "cv2.imshow(\"Vertical flip\", vertical_flip_img)\n",
    "print(f\"[INFO] flipping image vertically...\")\n",
    "cv2.waitKey(0)\n",
    "\n",
    "# flip the image both horizontally and vertically\n",
    "flip_image = cv2.flip(image, flipCode=-0)\n",
    "flip_image = cv2.flip(image, flipCode=-1)\n",
    "cv2.imwrite(\"data/primer/primeruji/label2/lbgr_8.png\",konversi_bgr)\n",
    "cv2.imshow(\"Horizontal and vertical flip\", flip_image)\n",
    "print(f\"[INFO] flipping image horizontally and then vertically...\")\n",
    "# waits for any key to be pressed then remove any\n",
    "# created gui window from the screen & memory\n",
    "cv2.waitKey(0)\n",
    "cv2.destroyAllWindows()"
   ]
  },
  {
   "cell_type": "code",
   "execution_count": null,
   "metadata": {},
   "outputs": [],
   "source": []
  }
 ],
 "metadata": {
  "kernelspec": {
   "display_name": "Python 3",
   "language": "python",
   "name": "python3"
  },
  "language_info": {
   "codemirror_mode": {
    "name": "ipython",
    "version": 3
   },
   "file_extension": ".py",
   "mimetype": "text/x-python",
   "name": "python",
   "nbconvert_exporter": "python",
   "pygments_lexer": "ipython3",
   "version": "3.8.3"
  }
 },
 "nbformat": 4,
 "nbformat_minor": 4
}
